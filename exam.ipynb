{
 "cells": [
  {
   "cell_type": "markdown",
   "metadata": {},
   "source": [
    "**SEARCH FOR: ANSWERS** \n",
    "+ eigen shit\n",
    "+ diagonalization\n",
    "+ Differential Equations and Systems hereof"
   ]
  },
  {
   "cell_type": "code",
   "execution_count": null,
   "metadata": {},
   "outputs": [],
   "source": [
    "from sympy import *\n",
    "init_printing()"
   ]
  },
  {
   "cell_type": "markdown",
   "metadata": {},
   "source": [
    "defining equations and printing as a matrix -> the solution to them\n",
    "+ A.row_join(b) -> [A | b]\n",
    "+ Matrix.hstack(v1,v2,v3) -> v1,v2,v3 in one matrix"
   ]
  },
  {
   "cell_type": "code",
   "execution_count": null,
   "metadata": {},
   "outputs": [],
   "source": [
    "x1,x2,x3 = symbols('x1:4')\n",
    "eq1 = Eq(-x2 + x3, 2)\n",
    "eq2 = Eq(2*x1 + 4*x2 - 2*x3, 2)\n",
    "eq3 = Eq(3*x1 + 4*x2 + x3, 9)\n",
    "eq1, eq2, eq3\n",
    "\n",
    "A,b = linear_eq_to_matrix([eq1,eq2,eq3],[x1,x2,x3])\n",
    "A,b"
   ]
  },
  {
   "cell_type": "code",
   "execution_count": null,
   "metadata": {},
   "outputs": [],
   "source": [
    "linsolve((eq1,eq2,eq3), (x1,x2,x3))"
   ]
  },
  {
   "cell_type": "markdown",
   "metadata": {},
   "source": [
    "solution to [A | b]"
   ]
  },
  {
   "cell_type": "code",
   "execution_count": null,
   "metadata": {},
   "outputs": [],
   "source": [
    "A = Matrix([[1,1,1],[1,2,4],[1,3,9]])\n",
    "b = Matrix([[1],[1],[1]])\n",
    "linsolve((A,b))"
   ]
  },
  {
   "cell_type": "markdown",
   "metadata": {},
   "source": [
    "rref \n",
    "+ last row -> the pivot columns are given as 0th, 1st, ....\n",
    "+ (pivots = False) if you don not want to see them"
   ]
  },
  {
   "cell_type": "code",
   "execution_count": null,
   "metadata": {},
   "outputs": [],
   "source": [
    "A.rref()"
   ]
  },
  {
   "cell_type": "markdown",
   "metadata": {},
   "source": [
    "rank"
   ]
  },
  {
   "cell_type": "code",
   "execution_count": null,
   "metadata": {},
   "outputs": [],
   "source": [
    "A.rank()"
   ]
  },
  {
   "cell_type": "markdown",
   "metadata": {},
   "source": [
    "determinant (has to be a square matrix)\n",
    "+ det = 0 -> linearly dependent\n",
    "+ det ≠ 0 -> linearly independent\n",
    "+ det ≠ 0 -> invertable"
   ]
  },
  {
   "cell_type": "code",
   "execution_count": null,
   "metadata": {},
   "outputs": [],
   "source": [
    "A.det()"
   ]
  },
  {
   "cell_type": "markdown",
   "metadata": {},
   "source": [
    "solve for c1, c2, c3 \n",
    "+ {(0,0,0)} -> the vectors are linearly independent"
   ]
  },
  {
   "cell_type": "code",
   "execution_count": null,
   "metadata": {},
   "outputs": [],
   "source": [
    "cs = symbols('c:3')\n",
    "linsolve((A,zeros(3,1)), cs)"
   ]
  },
  {
   "cell_type": "markdown",
   "metadata": {},
   "source": [
    "Identity matrix of size n "
   ]
  },
  {
   "cell_type": "code",
   "execution_count": null,
   "metadata": {},
   "outputs": [],
   "source": [
    "A.eye(4)"
   ]
  },
  {
   "cell_type": "markdown",
   "metadata": {},
   "source": [
    "values on diagonal -> could be and identity matrix"
   ]
  },
  {
   "cell_type": "code",
   "execution_count": null,
   "metadata": {},
   "outputs": [],
   "source": [
    "diag(1, 2, 3)"
   ]
  },
  {
   "cell_type": "markdown",
   "metadata": {},
   "source": [
    "a matrix full of zeros or ones"
   ]
  },
  {
   "cell_type": "code",
   "execution_count": null,
   "metadata": {},
   "outputs": [],
   "source": [
    "zeros(2, 3)\n",
    "ones(3, 1)"
   ]
  },
  {
   "cell_type": "markdown",
   "metadata": {},
   "source": [
    "inverse "
   ]
  },
  {
   "cell_type": "code",
   "execution_count": null,
   "metadata": {},
   "outputs": [],
   "source": [
    "A.inv()"
   ]
  },
  {
   "cell_type": "markdown",
   "metadata": {},
   "source": [
    "transpose"
   ]
  },
  {
   "cell_type": "code",
   "execution_count": null,
   "metadata": {},
   "outputs": [],
   "source": [
    "A.T\n"
   ]
  },
  {
   "cell_type": "markdown",
   "metadata": {},
   "source": [
    "single row operation"
   ]
  },
  {
   "cell_type": "code",
   "execution_count": null,
   "metadata": {},
   "outputs": [],
   "source": [
    "T1 = A.elementary_row_op('n<->m', 0, 1)\n",
    "T2 = T1.elementary_row_op('n->kn', 0, S(1)/2)\n",
    "T3 = T2.elementary_row_op('n->n+km',2,-3,0)\n",
    "T1,T2,T3"
   ]
  },
  {
   "cell_type": "markdown",
   "metadata": {},
   "source": [
    "multiply matrix with a scalar"
   ]
  },
  {
   "cell_type": "code",
   "execution_count": null,
   "metadata": {},
   "outputs": [],
   "source": [
    "k = symbols('k')\n",
    "k*A"
   ]
  },
  {
   "cell_type": "code",
   "execution_count": null,
   "metadata": {},
   "outputs": [],
   "source": [
    "a = symbols('a', real = True)\n",
    "B = Matrix([[1,2,3],[2,4,1],[3,a,7]])\n",
    "B"
   ]
  },
  {
   "cell_type": "markdown",
   "metadata": {},
   "source": [
    "solve it\n",
    "+ B is invertable for a ∈ ℝ\\ {6}"
   ]
  },
  {
   "cell_type": "code",
   "execution_count": null,
   "metadata": {},
   "outputs": [],
   "source": [
    "solveset(Eq(det(B), 0), a, S.Reals)"
   ]
  },
  {
   "cell_type": "markdown",
   "metadata": {},
   "source": [
    "K(λ) = ℯ[𝑓]e - λ * I₃"
   ]
  },
  {
   "cell_type": "code",
   "execution_count": null,
   "metadata": {},
   "outputs": [],
   "source": [
    "eFe = Matrix([[6,3,12],[4,-5,4],[-4,-1,-10]])\n",
    "lamb = symbols('\\lambda')\n",
    "K = eFe - lamb * eye(3)\n",
    "K"
   ]
  },
  {
   "cell_type": "markdown",
   "metadata": {},
   "source": [
    "characteristic polynomial p(λ) = det(K(λ))"
   ]
  },
  {
   "cell_type": "code",
   "execution_count": null,
   "metadata": {},
   "outputs": [],
   "source": [
    "charpoly = K.det()\n",
    "charpoly"
   ]
  },
  {
   "cell_type": "markdown",
   "metadata": {},
   "source": [
    "characteristic equation det(K(λ)) = 0"
   ]
  },
  {
   "cell_type": "code",
   "execution_count": null,
   "metadata": {},
   "outputs": [],
   "source": [
    "chareq = Eq(charpoly, 0)\n",
    "chareq"
   ]
  },
  {
   "cell_type": "markdown",
   "metadata": {},
   "source": [
    "roots of the characteristic polynomial -> eigenvalues\n",
    "+ roots() -> {root:multiplicity}\n",
    "+ solveset() does *NOT* mention the algebraic multiplicity"
   ]
  },
  {
   "cell_type": "code",
   "execution_count": null,
   "metadata": {},
   "outputs": [],
   "source": [
    "factor(charpoly)"
   ]
  },
  {
   "cell_type": "code",
   "execution_count": null,
   "metadata": {},
   "outputs": [],
   "source": [
    "eFe.eigenvals()"
   ]
  },
  {
   "cell_type": "code",
   "execution_count": null,
   "metadata": {},
   "outputs": [],
   "source": [
    "roots(charpoly)\n"
   ]
  },
  {
   "cell_type": "code",
   "execution_count": null,
   "metadata": {},
   "outputs": [],
   "source": [
    "solveset(chareq, lamb)"
   ]
  },
  {
   "cell_type": "markdown",
   "metadata": {},
   "source": [
    "eigenvectors belonging to the eigenvalue\n",
    "+ [(λ1 , am(λ1), eigenvector for λ1), (λ2 , am(λ2), eigenvector for λ2), ...]"
   ]
  },
  {
   "cell_type": "code",
   "execution_count": null,
   "metadata": {},
   "outputs": [],
   "source": [
    "eFe.eigenvects()"
   ]
  },
  {
   "cell_type": "code",
   "execution_count": null,
   "metadata": {},
   "outputs": [],
   "source": [
    "K.subs(lamb, -6).gauss_jordan_solve(zeros(3,1))"
   ]
  },
  {
   "cell_type": "code",
   "execution_count": null,
   "metadata": {},
   "outputs": [],
   "source": [
    "K.subs(lamb, 3).nullspace()"
   ]
  },
  {
   "cell_type": "markdown",
   "metadata": {},
   "source": [
    "**ANSWERS to eigen shit**"
   ]
  },
  {
   "cell_type": "code",
   "execution_count": null,
   "metadata": {},
   "outputs": [],
   "source": [
    "eigen_info = eFe.eigenvects()\n",
    "\n",
    "for lmb, am_lmb, list_of_v in eigen_info:\n",
    "    print(f'For the eigenvalue {lmb} with algebraic multiplicity {am_lmb}, the eigenspace is spanned by the eigenvectors')\n",
    "    display(list_of_v)\n",
    "    print(f'and the geometric multiplicity is {len(list_of_v)}' + '\\n\\n')\n",
    "\n",
    "print(f'Linearly independent eigenvectors associated with the eigenvalue -6')\n",
    "display(eigen_info[0][2])"
   ]
  },
  {
   "cell_type": "markdown",
   "metadata": {},
   "source": [
    "**ANSWERS to Diagonalization**"
   ]
  },
  {
   "cell_type": "code",
   "execution_count": null,
   "metadata": {},
   "outputs": [],
   "source": [
    "C = Matrix([[0,1,0],[-2,3,0],[0,0,2]])\n",
    "C"
   ]
  },
  {
   "cell_type": "code",
   "execution_count": null,
   "metadata": {},
   "outputs": [],
   "source": [
    "C.is_diagonalizable()"
   ]
  },
  {
   "cell_type": "markdown",
   "metadata": {},
   "source": [
    "V - diagonalized \n",
    "Λ - Lambda\n",
    "+ V⁻¹ * C * V = Λ *or* C = V * Λ * V⁻¹"
   ]
  },
  {
   "cell_type": "code",
   "execution_count": null,
   "metadata": {},
   "outputs": [],
   "source": [
    "V, Lambda = C.diagonalize()\n",
    "\n",
    "V, C, V.inv(), Lambda"
   ]
  },
  {
   "cell_type": "markdown",
   "metadata": {},
   "source": [
    "**ANSWERS for Differential Equations and Systems hereof**"
   ]
  },
  {
   "cell_type": "code",
   "execution_count": null,
   "metadata": {},
   "outputs": [],
   "source": [
    "G = Matrix([[2,-S(1)/2],[S(1)/3, 1]])\n",
    "\n",
    "t = symbols('t')\n",
    "f1 = Function('f1')\n",
    "f2 = Function('f2')\n",
    "\n",
    "f = Matrix([f1(t), f2(t)])\n",
    "f"
   ]
  },
  {
   "cell_type": "markdown",
   "metadata": {},
   "source": [
    "𝑓＇(t) - **A** * 𝑓(t)"
   ]
  },
  {
   "cell_type": "code",
   "execution_count": null,
   "metadata": {},
   "outputs": [],
   "source": [
    "df = diff(f,t)\n",
    "\n",
    "ode_sys = df - G * f\n",
    "ode_sys"
   ]
  },
  {
   "cell_type": "markdown",
   "metadata": {},
   "source": [
    "particular solution"
   ]
  },
  {
   "cell_type": "code",
   "execution_count": null,
   "metadata": {},
   "outputs": [],
   "source": [
    "dsolve(ode_sys, ics = {f1(0):1, f2(0):0})"
   ]
  },
  {
   "cell_type": "markdown",
   "metadata": {},
   "source": [
    "general solution"
   ]
  },
  {
   "cell_type": "code",
   "execution_count": null,
   "metadata": {},
   "outputs": [],
   "source": [
    "dsolve(ode_sys)"
   ]
  }
 ],
 "metadata": {
  "kernelspec": {
   "display_name": "base",
   "language": "python",
   "name": "python3"
  },
  "language_info": {
   "codemirror_mode": {
    "name": "ipython",
    "version": 3
   },
   "file_extension": ".py",
   "mimetype": "text/x-python",
   "name": "python",
   "nbconvert_exporter": "python",
   "pygments_lexer": "ipython3",
   "version": "3.11.5"
  }
 },
 "nbformat": 4,
 "nbformat_minor": 2
}
