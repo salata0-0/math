{
 "cells": [
  {
   "cell_type": "markdown",
   "metadata": {},
   "source": [
    "*DISCLAMIER: Run All the first time*\n",
    "<br><br>\n",
    "**SEARCH FOR: ANSWERS** \n",
    "+ eigen shit\n",
    "+ diagonalization\n",
    "+ Differential equations and systems hereof<br>\n",
    "<br>\n",
    "\n",
    "Content:\n",
    "1. Basics of matrices\n",
    "2. Vector spaces\n",
    "<br> - Basis\n",
    "3. Linear maps\n",
    "<br> - Kernel and column space\n",
    "<br> - Finding a mapping matrix\n",
    "<br> - Change of basis\n",
    "4. Eigen\n",
    "5. Diagonalization\n",
    "6. Differential equations and systems"
   ]
  },
  {
   "cell_type": "code",
   "execution_count": 1,
   "metadata": {},
   "outputs": [],
   "source": [
    "from sympy import *\n",
    "init_printing()"
   ]
  },
  {
   "cell_type": "markdown",
   "metadata": {},
   "source": [
    "**1. Basics of matrices**\n",
    "\n",
    "defining equations and printing as a matrix -> the solution to them\n",
    "+ A.row_join(b) -> [A | b]\n",
    "+ Matrix.hstack(v1,v2,v3) -> v1,v2,v3 in one matrix"
   ]
  },
  {
   "cell_type": "code",
   "execution_count": 2,
   "metadata": {},
   "outputs": [
    {
     "data": {
      "text/latex": [
       "$\\displaystyle \\left( \\left[\\begin{matrix}0 & -1 & 1\\\\2 & 4 & -2\\\\3 & 4 & 1\\end{matrix}\\right], \\  \\left[\\begin{matrix}2\\\\2\\\\9\\end{matrix}\\right]\\right)$"
      ],
      "text/plain": [
       "⎛⎡0  -1  1 ⎤  ⎡2⎤⎞\n",
       "⎜⎢         ⎥  ⎢ ⎥⎟\n",
       "⎜⎢2  4   -2⎥, ⎢2⎥⎟\n",
       "⎜⎢         ⎥  ⎢ ⎥⎟\n",
       "⎝⎣3  4   1 ⎦  ⎣9⎦⎠"
      ]
     },
     "execution_count": 2,
     "metadata": {},
     "output_type": "execute_result"
    }
   ],
   "source": [
    "x1,x2,x3 = symbols('x1:4')\n",
    "eq1 = Eq(-x2 + x3, 2)\n",
    "eq2 = Eq(2*x1 + 4*x2 - 2*x3, 2)\n",
    "eq3 = Eq(3*x1 + 4*x2 + x3, 9)\n",
    "eq1, eq2, eq3\n",
    "\n",
    "A,b = linear_eq_to_matrix([eq1,eq2,eq3],[x1,x2,x3])\n",
    "A,b"
   ]
  },
  {
   "cell_type": "code",
   "execution_count": 3,
   "metadata": {},
   "outputs": [
    {
     "data": {
      "image/png": "[encoded data removed]",
      "text/latex": [
       "$\\displaystyle \\left\\{\\left( 4, \\  -1, \\  1\\right)\\right\\}$"
      ],
      "text/plain": [
       "{(4, -1, 1)}"
      ]
     },
     "execution_count": 3,
     "metadata": {},
     "output_type": "execute_result"
    }
   ],
   "source": [
    "linsolve((eq1,eq2,eq3), (x1,x2,x3))"
   ]
  },
  {
   "cell_type": "markdown",
   "metadata": {},
   "source": [
    "solution to [A | b]"
   ]
  },
  {
   "cell_type": "code",
   "execution_count": 4,
   "metadata": {},
   "outputs": [
    {
     "data": {
      "image/png": "[encoded data removed]",
      "text/latex": [
       "$\\displaystyle \\left\\{\\left( 1, \\  0, \\  0\\right)\\right\\}$"
      ],
      "text/plain": [
       "{(1, 0, 0)}"
      ]
     },
     "execution_count": 4,
     "metadata": {},
     "output_type": "execute_result"
    }
   ],
   "source": [
    "A = Matrix([[1,1,1],[1,2,4],[1,3,9]])\n",
    "b = Matrix([[1],[1],[1]])\n",
    "linsolve((A,b))"
   ]
  },
  {
   "cell_type": "markdown",
   "metadata": {},
   "source": [
    "rref \n",
    "+ last row -> the pivot columns are given as 0th, 1st, ....\n",
    "+ (pivots = False) if you don not want to see them"
   ]
  },
  {
   "cell_type": "code",
   "execution_count": 5,
   "metadata": {},
   "outputs": [
    {
     "data": {
      "text/latex": [
       "$\\displaystyle \\left( \\left[\\begin{matrix}1 & 0 & 0\\\\0 & 1 & 0\\\\0 & 0 & 1\\end{matrix}\\right], \\  \\left( 0, \\  1, \\  2\\right)\\right)$"
      ],
      "text/plain": [
       "⎛⎡1  0  0⎤           ⎞\n",
       "⎜⎢       ⎥           ⎟\n",
       "⎜⎢0  1  0⎥, (0, 1, 2)⎟\n",
       "⎜⎢       ⎥           ⎟\n",
       "⎝⎣0  0  1⎦           ⎠"
      ]
     },
     "execution_count": 5,
     "metadata": {},
     "output_type": "execute_result"
    }
   ],
   "source": [
    "A.rref()"
   ]
  },
  {
   "cell_type": "markdown",
   "metadata": {},
   "source": [
    "rank"
   ]
  },
  {
   "cell_type": "code",
   "execution_count": 6,
   "metadata": {},
   "outputs": [
    {
     "data": {
      "image/png": "[encoded data removed]",
      "text/latex": [
       "$\\displaystyle 3$"
      ],
      "text/plain": [
       "3"
      ]
     },
     "execution_count": 6,
     "metadata": {},
     "output_type": "execute_result"
    }
   ],
   "source": [
    "A.rank()"
   ]
  },
  {
   "cell_type": "markdown",
   "metadata": {},
   "source": [
    "determinant (has to be a square matrix)\n",
    "+ det = 0 -> linearly dependent\n",
    "+ det ≠ 0 -> linearly independent\n",
    "+ det ≠ 0 -> invertable"
   ]
  },
  {
   "cell_type": "code",
   "execution_count": 7,
   "metadata": {},
   "outputs": [
    {
     "data": {
      "image/png": "[encoded data removed]",
      "text/latex": [
       "$\\displaystyle 2$"
      ],
      "text/plain": [
       "2"
      ]
     },
     "execution_count": 7,
     "metadata": {},
     "output_type": "execute_result"
    }
   ],
   "source": [
    "A.det()"
   ]
  },
  {
   "cell_type": "markdown",
   "metadata": {},
   "source": [
    "solve for c1, c2, c3 \n",
    "+ {(0,0,0)} -> the vectors are linearly independent"
   ]
  },
  {
   "cell_type": "code",
   "execution_count": 8,
   "metadata": {},
   "outputs": [
    {
     "data": {
      "image/png": "[encoded data removed]",
      "text/latex": [
       "$\\displaystyle \\left\\{\\left( 0, \\  0, \\  0\\right)\\right\\}$"
      ],
      "text/plain": [
       "{(0, 0, 0)}"
      ]
     },
     "execution_count": 8,
     "metadata": {},
     "output_type": "execute_result"
    }
   ],
   "source": [
    "cs = symbols('c:3')\n",
    "linsolve((A,zeros(3,1)), cs)"
   ]
  },
  {
   "cell_type": "markdown",
   "metadata": {},
   "source": [
    "Identity matrix of size n "
   ]
  },
  {
   "cell_type": "code",
   "execution_count": 9,
   "metadata": {},
   "outputs": [
    {
     "data": {
      "text/latex": [
       "$\\displaystyle \\left[\\begin{matrix}1 & 0 & 0 & 0\\\\0 & 1 & 0 & 0\\\\0 & 0 & 1 & 0\\\\0 & 0 & 0 & 1\\end{matrix}\\right]$"
      ],
      "text/plain": [
       "⎡1  0  0  0⎤\n",
       "⎢          ⎥\n",
       "⎢0  1  0  0⎥\n",
       "⎢          ⎥\n",
       "⎢0  0  1  0⎥\n",
       "⎢          ⎥\n",
       "⎣0  0  0  1⎦"
      ]
     },
     "execution_count": 9,
     "metadata": {},
     "output_type": "execute_result"
    }
   ],
   "source": [
    "A.eye(4)"
   ]
  },
  {
   "cell_type": "markdown",
   "metadata": {},
   "source": [
    "values on diagonal -> could be and identity matrix"
   ]
  },
  {
   "cell_type": "code",
   "execution_count": 10,
   "metadata": {},
   "outputs": [
    {
     "data": {
      "text/latex": [
       "$\\displaystyle \\left[\\begin{matrix}1 & 0 & 0\\\\0 & 2 & 0\\\\0 & 0 & 3\\end{matrix}\\right]$"
      ],
      "text/plain": [
       "⎡1  0  0⎤\n",
       "⎢       ⎥\n",
       "⎢0  2  0⎥\n",
       "⎢       ⎥\n",
       "⎣0  0  3⎦"
      ]
     },
     "execution_count": 10,
     "metadata": {},
     "output_type": "execute_result"
    }
   ],
   "source": [
    "diag(1, 2, 3)"
   ]
  },
  {
   "cell_type": "markdown",
   "metadata": {},
   "source": [
    "a matrix full of zeros or ones"
   ]
  },
  {
   "cell_type": "code",
   "execution_count": 11,
   "metadata": {},
   "outputs": [
    {
     "data": {
      "text/latex": [
       "$\\displaystyle \\left[\\begin{matrix}1\\\\1\\\\1\\end{matrix}\\right]$"
      ],
      "text/plain": [
       "⎡1⎤\n",
       "⎢ ⎥\n",
       "⎢1⎥\n",
       "⎢ ⎥\n",
       "⎣1⎦"
      ]
     },
     "execution_count": 11,
     "metadata": {},
     "output_type": "execute_result"
    }
   ],
   "source": [
    "zeros(2, 3)\n",
    "ones(3, 1)"
   ]
  },
  {
   "cell_type": "markdown",
   "metadata": {},
   "source": [
    "inverse "
   ]
  },
  {
   "cell_type": "code",
   "execution_count": 12,
   "metadata": {},
   "outputs": [
    {
     "data": {
      "text/latex": [
       "$\\displaystyle \\left[\\begin{matrix}3 & -3 & 1\\\\- \\frac{5}{2} & 4 & - \\frac{3}{2}\\\\\\frac{1}{2} & -1 & \\frac{1}{2}\\end{matrix}\\right]$"
      ],
      "text/plain": [
       "⎡ 3    -3   1  ⎤\n",
       "⎢              ⎥\n",
       "⎢-5/2  4   -3/2⎥\n",
       "⎢              ⎥\n",
       "⎣1/2   -1  1/2 ⎦"
      ]
     },
     "execution_count": 12,
     "metadata": {},
     "output_type": "execute_result"
    }
   ],
   "source": [
    "A.inv()"
   ]
  },
  {
   "cell_type": "markdown",
   "metadata": {},
   "source": [
    "transpose"
   ]
  },
  {
   "cell_type": "code",
   "execution_count": 13,
   "metadata": {},
   "outputs": [
    {
     "data": {
      "text/latex": [
       "$\\displaystyle \\left[\\begin{matrix}1 & 1 & 1\\\\1 & 2 & 3\\\\1 & 4 & 9\\end{matrix}\\right]$"
      ],
      "text/plain": [
       "⎡1  1  1⎤\n",
       "⎢       ⎥\n",
       "⎢1  2  3⎥\n",
       "⎢       ⎥\n",
       "⎣1  4  9⎦"
      ]
     },
     "execution_count": 13,
     "metadata": {},
     "output_type": "execute_result"
    }
   ],
   "source": [
    "A.T\n"
   ]
  },
  {
   "cell_type": "markdown",
   "metadata": {},
   "source": [
    "single row operation"
   ]
  },
  {
   "cell_type": "code",
   "execution_count": 14,
   "metadata": {},
   "outputs": [
    {
     "data": {
      "text/latex": [
       "$\\displaystyle \\left( \\left[\\begin{matrix}1 & 2 & 4\\\\1 & 1 & 1\\\\1 & 3 & 9\\end{matrix}\\right], \\  \\left[\\begin{matrix}\\frac{1}{2} & 1 & 2\\\\1 & 1 & 1\\\\1 & 3 & 9\\end{matrix}\\right], \\  \\left[\\begin{matrix}\\frac{1}{2} & 1 & 2\\\\1 & 1 & 1\\\\- \\frac{1}{2} & 0 & 3\\end{matrix}\\right]\\right)$"
      ],
      "text/plain": [
       "⎛⎡1  2  4⎤  ⎡1/2  1  2⎤  ⎡1/2   1  2⎤⎞\n",
       "⎜⎢       ⎥  ⎢         ⎥  ⎢          ⎥⎟\n",
       "⎜⎢1  1  1⎥, ⎢ 1   1  1⎥, ⎢ 1    1  1⎥⎟\n",
       "⎜⎢       ⎥  ⎢         ⎥  ⎢          ⎥⎟\n",
       "⎝⎣1  3  9⎦  ⎣ 1   3  9⎦  ⎣-1/2  0  3⎦⎠"
      ]
     },
     "execution_count": 14,
     "metadata": {},
     "output_type": "execute_result"
    }
   ],
   "source": [
    "T1 = A.elementary_row_op('n<->m', 0, 1)\n",
    "T2 = T1.elementary_row_op('n->kn', 0, S(1)/2)\n",
    "T3 = T2.elementary_row_op('n->n+km',2,-3,0)\n",
    "T1,T2,T3"
   ]
  },
  {
   "cell_type": "markdown",
   "metadata": {},
   "source": [
    "multiply matrix with a scalar"
   ]
  },
  {
   "cell_type": "code",
   "execution_count": 15,
   "metadata": {},
   "outputs": [
    {
     "data": {
      "text/latex": [
       "$\\displaystyle \\left[\\begin{matrix}k & k & k\\\\k & 2 k & 4 k\\\\k & 3 k & 9 k\\end{matrix}\\right]$"
      ],
      "text/plain": [
       "⎡k   k    k ⎤\n",
       "⎢           ⎥\n",
       "⎢k  2⋅k  4⋅k⎥\n",
       "⎢           ⎥\n",
       "⎣k  3⋅k  9⋅k⎦"
      ]
     },
     "execution_count": 15,
     "metadata": {},
     "output_type": "execute_result"
    }
   ],
   "source": [
    "k = symbols('k')\n",
    "k*A"
   ]
  },
  {
   "cell_type": "code",
   "execution_count": 16,
   "metadata": {},
   "outputs": [
    {
     "data": {
      "text/latex": [
       "$\\displaystyle \\left[\\begin{matrix}1 & 2 & 3\\\\2 & 4 & 1\\\\3 & a & 7\\end{matrix}\\right]$"
      ],
      "text/plain": [
       "⎡1  2  3⎤\n",
       "⎢       ⎥\n",
       "⎢2  4  1⎥\n",
       "⎢       ⎥\n",
       "⎣3  a  7⎦"
      ]
     },
     "execution_count": 16,
     "metadata": {},
     "output_type": "execute_result"
    }
   ],
   "source": [
    "a = symbols('a', real = True)\n",
    "B = Matrix([[1,2,3],[2,4,1],[3,a,7]])\n",
    "B"
   ]
  },
  {
   "cell_type": "markdown",
   "metadata": {},
   "source": [
    "solve it\n",
    "+ B is invertable for a ∈ ℝ\\ {6}"
   ]
  },
  {
   "cell_type": "code",
   "execution_count": 17,
   "metadata": {},
   "outputs": [
    {
     "data": {
      "image/png": "[encoded data removed]",
      "text/latex": [
       "$\\displaystyle \\left\\{6\\right\\}$"
      ],
      "text/plain": [
       "{6}"
      ]
     },
     "execution_count": 17,
     "metadata": {},
     "output_type": "execute_result"
    }
   ],
   "source": [
    "solveset(Eq(det(B), 0), a, S.Reals)"
   ]
  },
  {
   "cell_type": "markdown",
   "metadata": {},
   "source": [
    "xs = symbols('x:7')\n",
    "v1 = Matrix(xs[:3])\n",
    "v2 = Matrix(xs[4:])\n",
    "v1,v2"
   ]
  },
  {
   "cell_type": "markdown",
   "metadata": {},
   "source": [
    "**2. Vector spaces**"
   ]
  },
  {
   "cell_type": "code",
   "execution_count": 43,
   "metadata": {},
   "outputs": [],
   "source": [
    "xs = symbols('x:7')\n",
    "v1 = Matrix([1+I, 3, 0 , 7*I])\n",
    "v2 = Matrix([2, 4-I, 2*I, 8-I])\n",
    "v3 = Matrix([3+I, 7-I, 2*I, 8+6*I])\n",
    "v4 = Matrix([3,-1-I, 7*I, 0])"
   ]
  },
  {
   "cell_type": "markdown",
   "metadata": {},
   "source": [
    "common dot product, cross product and norm"
   ]
  },
  {
   "cell_type": "code",
   "execution_count": 42,
   "metadata": {},
   "outputs": [
    {
     "data": {
      "text/latex": [
       "$\\displaystyle \\left( x_{0} x_{4} + x_{1} x_{5} + x_{2} x_{6}, \\  \\left[\\begin{matrix}x_{1} x_{6} - x_{2} x_{5}\\\\- x_{0} x_{6} + x_{2} x_{4}\\\\x_{0} x_{5} - x_{1} x_{4}\\end{matrix}\\right], \\  \\sqrt{\\left|{x_{0}}\\right|^{2} + \\left|{x_{1}}\\right|^{2} + \\left|{x_{2}}\\right|^{2}}\\right)$"
      ],
      "text/plain": [
       "⎛                       ⎡x₁⋅x₆ - x₂⋅x₅ ⎤     _______________________⎞\n",
       "⎜                       ⎢              ⎥    ╱     2       2       2 ⎟\n",
       "⎜x₀⋅x₄ + x₁⋅x₅ + x₂⋅x₆, ⎢-x₀⋅x₆ + x₂⋅x₄⎥, ╲╱  │x₀│  + │x₁│  + │x₂│  ⎟\n",
       "⎜                       ⎢              ⎥                            ⎟\n",
       "⎝                       ⎣x₀⋅x₅ - x₁⋅x₄ ⎦                            ⎠"
      ]
     },
     "execution_count": 42,
     "metadata": {},
     "output_type": "execute_result"
    }
   ],
   "source": [
    "v1.dot(v2), v1.cross(v2), v1.norm()"
   ]
  },
  {
   "cell_type": "markdown",
   "metadata": {},
   "source": [
    "span of a vector space -> largest possible linearly independent subset\n",
    "+ in the example it is span(v1,v2,v3)"
   ]
  },
  {
   "cell_type": "code",
   "execution_count": 45,
   "metadata": {},
   "outputs": [
    {
     "data": {
      "text/latex": [
       "$\\displaystyle \\left[ \\left[\\begin{matrix}1 + i\\\\3\\\\0\\\\7 i\\end{matrix}\\right], \\  \\left[\\begin{matrix}2\\\\4 - i\\\\2 i\\\\8 - i\\end{matrix}\\right], \\  \\left[\\begin{matrix}3\\\\-1 - i\\\\7 i\\\\0\\end{matrix}\\right]\\right]$"
      ],
      "text/plain": [
       "⎡⎡1 + ⅈ⎤  ⎡  2  ⎤  ⎡  3   ⎤⎤\n",
       "⎢⎢     ⎥  ⎢     ⎥  ⎢      ⎥⎥\n",
       "⎢⎢  3  ⎥  ⎢4 - ⅈ⎥  ⎢-1 - ⅈ⎥⎥\n",
       "⎢⎢     ⎥, ⎢     ⎥, ⎢      ⎥⎥\n",
       "⎢⎢  0  ⎥  ⎢ 2⋅ⅈ ⎥  ⎢ 7⋅ⅈ  ⎥⎥\n",
       "⎢⎢     ⎥  ⎢     ⎥  ⎢      ⎥⎥\n",
       "⎣⎣ 7⋅ⅈ ⎦  ⎣8 - ⅈ⎦  ⎣  0   ⎦⎦"
      ]
     },
     "execution_count": 45,
     "metadata": {},
     "output_type": "execute_result"
    }
   ],
   "source": [
    "V = Matrix.hstack(v1,v2,v3,v4)\n",
    "V.columnspace()"
   ]
  },
  {
   "cell_type": "markdown",
   "metadata": {},
   "source": [
    "**Basis**"
   ]
  },
  {
   "cell_type": "code",
   "execution_count": 47,
   "metadata": {},
   "outputs": [
    {
     "data": {
      "text/latex": [
       "$\\displaystyle \\left( \\left[\\begin{matrix}1 & -6\\\\2 & 0\\end{matrix}\\right], \\  \\left[\\begin{matrix}1 & 2\\\\-2 & 0\\end{matrix}\\right], \\  \\left[\\begin{matrix}-2 & 2\\\\1 & 0\\end{matrix}\\right], \\  \\left[\\begin{matrix}3 & -4\\\\-1 & 0\\end{matrix}\\right]\\right)$"
      ],
      "text/plain": [
       "⎛⎡1  -6⎤  ⎡1   2⎤  ⎡-2  2⎤  ⎡3   -4⎤⎞\n",
       "⎜⎢     ⎥, ⎢     ⎥, ⎢     ⎥, ⎢      ⎥⎟\n",
       "⎝⎣2  0 ⎦  ⎣-2  0⎦  ⎣1   0⎦  ⎣-1  0 ⎦⎠"
      ]
     },
     "execution_count": 47,
     "metadata": {},
     "output_type": "execute_result"
    }
   ],
   "source": [
    "A = Matrix([[1,-6],[2,0]])\n",
    "B = Matrix([[1,2],[-2,0]])\n",
    "C = Matrix([[-2,2],[1,0]])\n",
    "D = Matrix([[3,-4],[-1,0]])\n",
    "A, B, C, D"
   ]
  },
  {
   "attachments": {
    "image.png": {
     "image/png": "[encoded data removed]"
    }
   },
   "cell_type": "markdown",
   "metadata": {},
   "source": [
    "the vector representations of each matrix in the basis:\n",
    "<br> ![image.png](attachment:image.png)\n",
    "<br>and then compiled into one matrix"
   ]
  },
  {
   "cell_type": "code",
   "execution_count": 49,
   "metadata": {},
   "outputs": [
    {
     "data": {
      "text/latex": [
       "$\\displaystyle \\left[\\begin{matrix}1 & 1 & -2 & 3\\\\2 & -2 & 1 & -1\\\\-6 & 2 & 2 & -4\\\\0 & 0 & 0 & 0\\end{matrix}\\right]$"
      ],
      "text/plain": [
       "⎡1   1   -2  3 ⎤\n",
       "⎢              ⎥\n",
       "⎢2   -2  1   -1⎥\n",
       "⎢              ⎥\n",
       "⎢-6  2   2   -4⎥\n",
       "⎢              ⎥\n",
       "⎣0   0   0   0 ⎦"
      ]
     },
     "execution_count": 49,
     "metadata": {},
     "output_type": "execute_result"
    }
   ],
   "source": [
    "A.vec(),B.vec(),C.vec(),D.vec()\n",
    "V = Matrix.hstack(A.vec(),B.vec(),C.vec(),D.vec())\n",
    "V"
   ]
  },
  {
   "cell_type": "markdown",
   "metadata": {},
   "source": [
    "V is spanned by A and B -> basis for the subspace (A,B) and dim = 2"
   ]
  },
  {
   "cell_type": "code",
   "execution_count": 50,
   "metadata": {},
   "outputs": [
    {
     "data": {
      "text/latex": [
       "$\\displaystyle \\left[ \\left[\\begin{matrix}1\\\\2\\\\-6\\\\0\\end{matrix}\\right], \\  \\left[\\begin{matrix}1\\\\-2\\\\2\\\\0\\end{matrix}\\right]\\right]$"
      ],
      "text/plain": [
       "⎡⎡1 ⎤  ⎡1 ⎤⎤\n",
       "⎢⎢  ⎥  ⎢  ⎥⎥\n",
       "⎢⎢2 ⎥  ⎢-2⎥⎥\n",
       "⎢⎢  ⎥, ⎢  ⎥⎥\n",
       "⎢⎢-6⎥  ⎢2 ⎥⎥\n",
       "⎢⎢  ⎥  ⎢  ⎥⎥\n",
       "⎣⎣0 ⎦  ⎣0 ⎦⎦"
      ]
     },
     "execution_count": 50,
     "metadata": {},
     "output_type": "execute_result"
    }
   ],
   "source": [
    "V.columnspace()"
   ]
  },
  {
   "cell_type": "markdown",
   "metadata": {},
   "source": [
    "x1 * A + x2 * B = C\n",
    "<br>\n",
    "x3 * A + x2 * B = D"
   ]
  },
  {
   "cell_type": "code",
   "execution_count": 54,
   "metadata": {},
   "outputs": [
    {
     "data": {
      "image/png": "[encoded data removed]",
      "text/latex": [
       "$\\displaystyle \\left( \\left\\{\\left( - \\frac{3}{4}, \\  - \\frac{5}{4}\\right)\\right\\}, \\  \\left\\{\\left( \\frac{5}{4}, \\  \\frac{7}{4}\\right)\\right\\}\\right)$"
      ],
      "text/plain": [
       "({(-3/4, -5/4)}, {(5/4, 7/4)})"
      ]
     },
     "execution_count": 54,
     "metadata": {},
     "output_type": "execute_result"
    }
   ],
   "source": [
    "# Coefficient matrix as left-hand side\n",
    "V_12 = V[:,[0,1]] # This extracts the coordinate vectors for A and B\n",
    "\n",
    "linsolve((V_12, V.col(2))), linsolve((V_12, V.col(3)))  # Solving for C and D"
   ]
  },
  {
   "cell_type": "markdown",
   "metadata": {},
   "source": [
    "**3. Linear maps**"
   ]
  },
  {
   "cell_type": "markdown",
   "metadata": {},
   "source": [
    "**Kernel and column space**"
   ]
  },
  {
   "cell_type": "code",
   "execution_count": 18,
   "metadata": {},
   "outputs": [
    {
     "data": {
      "text/latex": [
       "$\\displaystyle \\left[\\begin{matrix}5 & 4 i & 3 + 5 i\\\\3 i & 2 & -3 + 4 i\\\\3 & 8 & 3 + 7 i\\end{matrix}\\right]$"
      ],
      "text/plain": [
       "⎡ 5   4⋅ⅈ  3 + 5⋅ⅈ ⎤\n",
       "⎢                  ⎥\n",
       "⎢3⋅ⅈ   2   -3 + 4⋅ⅈ⎥\n",
       "⎢                  ⎥\n",
       "⎣ 3    8   3 + 7⋅ⅈ ⎦"
      ]
     },
     "execution_count": 18,
     "metadata": {},
     "output_type": "execute_result"
    }
   ],
   "source": [
    "L = Matrix([[5, 4*I, 3+5*I], [3*I, 2, -3+4*I],[3, 8, 3+7*I]])\n",
    "L"
   ]
  },
  {
   "cell_type": "markdown",
   "metadata": {},
   "source": [
    "ker(L) -> span(ker(L))"
   ]
  },
  {
   "cell_type": "code",
   "execution_count": 19,
   "metadata": {},
   "outputs": [
    {
     "data": {
      "text/latex": [
       "$\\displaystyle \\left[ \\left[\\begin{matrix}-1 - i\\\\- \\frac{i}{2}\\\\1\\end{matrix}\\right]\\right]$"
      ],
      "text/plain": [
       "⎡⎡-1 - ⅈ⎤⎤\n",
       "⎢⎢      ⎥⎥\n",
       "⎢⎢ -ⅈ   ⎥⎥\n",
       "⎢⎢ ───  ⎥⎥\n",
       "⎢⎢  2   ⎥⎥\n",
       "⎢⎢      ⎥⎥\n",
       "⎣⎣  1   ⎦⎦"
      ]
     },
     "execution_count": 19,
     "metadata": {},
     "output_type": "execute_result"
    }
   ],
   "source": [
    "L.nullspace()"
   ]
  },
  {
   "cell_type": "markdown",
   "metadata": {},
   "source": [
    "dim(colsp(L)) = dim(rowsp(L)) = ρ(L) <- rank"
   ]
  },
  {
   "cell_type": "code",
   "execution_count": 20,
   "metadata": {},
   "outputs": [
    {
     "data": {
      "text/latex": [
       "$\\displaystyle \\left( \\left[ \\left[\\begin{matrix}5\\\\3 i\\\\3\\end{matrix}\\right], \\  \\left[\\begin{matrix}4 i\\\\2\\\\8\\end{matrix}\\right]\\right], \\  \\left[ \\left[\\begin{matrix}5 & 4 i & 3 + 5 i\\end{matrix}\\right], \\  \\left[\\begin{matrix}0 & 22 & 11 i\\end{matrix}\\right]\\right]\\right)$"
      ],
      "text/plain": [
       "⎛⎡⎡ 5 ⎤  ⎡4⋅ⅈ⎤⎤                                    ⎞\n",
       "⎜⎢⎢   ⎥  ⎢   ⎥⎥                                    ⎟\n",
       "⎜⎢⎢3⋅ⅈ⎥, ⎢ 2 ⎥⎥, [[5  4⋅ⅈ  3 + 5⋅ⅈ], [0  22  11⋅ⅈ]]⎟\n",
       "⎜⎢⎢   ⎥  ⎢   ⎥⎥                                    ⎟\n",
       "⎝⎣⎣ 3 ⎦  ⎣ 8 ⎦⎦                                    ⎠"
      ]
     },
     "execution_count": 20,
     "metadata": {},
     "output_type": "execute_result"
    }
   ],
   "source": [
    "L.columnspace(), L.rowspace()"
   ]
  },
  {
   "cell_type": "markdown",
   "metadata": {},
   "source": [
    "𝑓(x1,x2) = (2\\*x1 + x2, 3\\*x1 + 2\\*x2, x1 + x2, 2\\*x1 + 3*x2)"
   ]
  },
  {
   "cell_type": "code",
   "execution_count": 60,
   "metadata": {},
   "outputs": [],
   "source": [
    "def f(x):\n",
    "    x1 = x[0]\n",
    "    x2 = x[1]\n",
    "    return Matrix([2*x1+x2, 3*x1+2*x2, x1+x2, 2*x1+3*x2])"
   ]
  },
  {
   "cell_type": "markdown",
   "metadata": {},
   "source": [
    "𝑓(u + v) = 𝑓(u) + 𝑓(v)\n",
    "<br>\n",
    "𝑓(k * u) = k * 𝑓(u)"
   ]
  },
  {
   "cell_type": "code",
   "execution_count": 57,
   "metadata": {},
   "outputs": [
    {
     "data": {
      "text/latex": [
       "$\\displaystyle \\left( \\left[\\begin{matrix}u_{1}\\\\u_{2}\\end{matrix}\\right], \\  \\left[\\begin{matrix}v_{1}\\\\v_{2}\\end{matrix}\\right], \\  k\\right)$"
      ],
      "text/plain": [
       "⎛⎡u₁⎤  ⎡v₁⎤   ⎞\n",
       "⎜⎢  ⎥, ⎢  ⎥, k⎟\n",
       "⎝⎣u₂⎦  ⎣v₂⎦   ⎠"
      ]
     },
     "execution_count": 57,
     "metadata": {},
     "output_type": "execute_result"
    }
   ],
   "source": [
    "u1,u2,v1,v2,k = symbols('u_1,u_2,v_1,v_2,k')\n",
    "u = Matrix([u1,u2])\n",
    "v = Matrix([v1,v2])\n",
    "\n",
    "u, v, k"
   ]
  },
  {
   "cell_type": "markdown",
   "metadata": {},
   "source": [
    "Linearity requirement 1 and 2\n",
    "+ 0,0,... -> fulfilled"
   ]
  },
  {
   "cell_type": "code",
   "execution_count": 62,
   "metadata": {},
   "outputs": [
    {
     "data": {
      "text/latex": [
       "$\\displaystyle \\left( \\left[\\begin{matrix}0\\\\0\\\\0\\\\0\\end{matrix}\\right], \\  \\left[\\begin{matrix}0\\\\0\\\\0\\\\0\\end{matrix}\\right]\\right)$"
      ],
      "text/plain": [
       "⎛⎡0⎤  ⎡0⎤⎞\n",
       "⎜⎢ ⎥  ⎢ ⎥⎟\n",
       "⎜⎢0⎥  ⎢0⎥⎟\n",
       "⎜⎢ ⎥, ⎢ ⎥⎟\n",
       "⎜⎢0⎥  ⎢0⎥⎟\n",
       "⎜⎢ ⎥  ⎢ ⎥⎟\n",
       "⎝⎣0⎦  ⎣0⎦⎠"
      ]
     },
     "execution_count": 62,
     "metadata": {},
     "output_type": "execute_result"
    }
   ],
   "source": [
    "f(u+v) - (f(u)+f(v)), simplify(f(k*u)-k*f(u))"
   ]
  },
  {
   "cell_type": "markdown",
   "metadata": {},
   "source": [
    "**Finding a mapping matrix**\n",
    "<br><br>\n",
    "𝑓(x1,x2) = (2\\*x1 + x2, 3\\*x1 + 2\\*x2, x1 + x2, 2\\*x1 + 3*x2)"
   ]
  },
  {
   "cell_type": "code",
   "execution_count": 63,
   "metadata": {},
   "outputs": [
    {
     "data": {
      "text/latex": [
       "$\\displaystyle \\left[\\begin{matrix}2 & 1\\\\3 & 2\\\\1 & 1\\\\2 & 3\\end{matrix}\\right]$"
      ],
      "text/plain": [
       "⎡2  1⎤\n",
       "⎢    ⎥\n",
       "⎢3  2⎥\n",
       "⎢    ⎥\n",
       "⎢1  1⎥\n",
       "⎢    ⎥\n",
       "⎣2  3⎦"
      ]
     },
     "execution_count": 63,
     "metadata": {},
     "output_type": "execute_result"
    }
   ],
   "source": [
    "n = 2\n",
    "m = 4\n",
    "V = eye(n)\n",
    "F = zeros(m,n)\n",
    "for k in range(n):\n",
    "    F[:,k] = f(V.col(k))\n",
    "F"
   ]
  },
  {
   "cell_type": "markdown",
   "metadata": {},
   "source": [
    "image vector g(v) = G * v"
   ]
  },
  {
   "cell_type": "code",
   "execution_count": 64,
   "metadata": {},
   "outputs": [
    {
     "data": {
      "text/latex": [
       "$\\displaystyle \\left[\\begin{matrix}0\\\\-6\\\\-6\\\\24\\end{matrix}\\right]$"
      ],
      "text/plain": [
       "⎡0 ⎤\n",
       "⎢  ⎥\n",
       "⎢-6⎥\n",
       "⎢  ⎥\n",
       "⎢-6⎥\n",
       "⎢  ⎥\n",
       "⎣24⎦"
      ]
     },
     "execution_count": 64,
     "metadata": {},
     "output_type": "execute_result"
    }
   ],
   "source": [
    "G = Matrix([[1,3,1],[2,4,0],[1,1,-1],[-3,-1,5]])\n",
    "v = Matrix([1,-2,5])\n",
    "G*v"
   ]
  },
  {
   "cell_type": "markdown",
   "metadata": {},
   "source": [
    "if G * u = g(u) == 0,0,... -> u belongs to the ker(g)"
   ]
  },
  {
   "cell_type": "code",
   "execution_count": 65,
   "metadata": {},
   "outputs": [
    {
     "data": {
      "text/latex": [
       "$\\displaystyle \\left[\\begin{matrix}0\\\\0\\\\0\\\\0\\end{matrix}\\right]$"
      ],
      "text/plain": [
       "⎡0⎤\n",
       "⎢ ⎥\n",
       "⎢0⎥\n",
       "⎢ ⎥\n",
       "⎢0⎥\n",
       "⎢ ⎥\n",
       "⎣0⎦"
      ]
     },
     "execution_count": 65,
     "metadata": {},
     "output_type": "execute_result"
    }
   ],
   "source": [
    "u = Matrix([-6,3,-3])\n",
    "G*u"
   ]
  },
  {
   "cell_type": "markdown",
   "metadata": {},
   "source": [
    "ker of a map g(x) = 0\n",
    "<br>ker(g) = span(the vector below)"
   ]
  },
  {
   "cell_type": "code",
   "execution_count": 66,
   "metadata": {},
   "outputs": [
    {
     "data": {
      "text/latex": [
       "$\\displaystyle \\left[ \\left[\\begin{matrix}2\\\\-1\\\\1\\end{matrix}\\right]\\right]$"
      ],
      "text/plain": [
       "⎡⎡2 ⎤⎤\n",
       "⎢⎢  ⎥⎥\n",
       "⎢⎢-1⎥⎥\n",
       "⎢⎢  ⎥⎥\n",
       "⎣⎣1 ⎦⎦"
      ]
     },
     "execution_count": 66,
     "metadata": {},
     "output_type": "execute_result"
    }
   ],
   "source": [
    "G.nullspace()"
   ]
  },
  {
   "cell_type": "markdown",
   "metadata": {},
   "source": [
    "image space\n",
    "+ image(g) = g(ℝ₃) = span(indep. vectors of the initial matrix)"
   ]
  },
  {
   "cell_type": "code",
   "execution_count": 67,
   "metadata": {},
   "outputs": [
    {
     "data": {
      "text/latex": [
       "$\\displaystyle \\left[ \\left[\\begin{matrix}1\\\\2\\\\1\\\\-3\\end{matrix}\\right], \\  \\left[\\begin{matrix}3\\\\4\\\\1\\\\-1\\end{matrix}\\right]\\right]$"
      ],
      "text/plain": [
       "⎡⎡1 ⎤  ⎡3 ⎤⎤\n",
       "⎢⎢  ⎥  ⎢  ⎥⎥\n",
       "⎢⎢2 ⎥  ⎢4 ⎥⎥\n",
       "⎢⎢  ⎥, ⎢  ⎥⎥\n",
       "⎢⎢1 ⎥  ⎢1 ⎥⎥\n",
       "⎢⎢  ⎥  ⎢  ⎥⎥\n",
       "⎣⎣-3⎦  ⎣-1⎦⎦"
      ]
     },
     "execution_count": 67,
     "metadata": {},
     "output_type": "execute_result"
    }
   ],
   "source": [
    "G.columnspace()"
   ]
  },
  {
   "cell_type": "markdown",
   "metadata": {},
   "source": [
    "a vector belongs to image space -> g(x) = G * x = b"
   ]
  },
  {
   "cell_type": "code",
   "execution_count": 68,
   "metadata": {},
   "outputs": [
    {
     "data": {
      "image/png": "[encoded data removed]",
      "text/latex": [
       "$\\displaystyle \\emptyset$"
      ],
      "text/plain": [
       "∅"
      ]
     },
     "execution_count": 68,
     "metadata": {},
     "output_type": "execute_result"
    }
   ],
   "source": [
    "b1 = Matrix([1,2,1,-4])\n",
    "linsolve((G,b1))"
   ]
  },
  {
   "cell_type": "markdown",
   "metadata": {},
   "source": [
    "𝛾 = ((5,3), (-2,-1)) for map M: ℝ₂ -> ℝ₂"
   ]
  },
  {
   "cell_type": "code",
   "execution_count": 72,
   "metadata": {},
   "outputs": [
    {
     "data": {
      "text/latex": [
       "$\\displaystyle \\left[\\begin{matrix}1 & 2\\\\3 & 4\\end{matrix}\\right]$"
      ],
      "text/plain": [
       "⎡1  2⎤\n",
       "⎢    ⎥\n",
       "⎣3  4⎦"
      ]
     },
     "execution_count": 72,
     "metadata": {},
     "output_type": "execute_result"
    }
   ],
   "source": [
    "yMy = Matrix([[1,2],[3,4]])\n",
    "yMy"
   ]
  },
  {
   "cell_type": "markdown",
   "metadata": {},
   "source": [
    "**Change of basis**\n",
    "<br><br>\n",
    "standard basis for ℝ₂ 𝑒 = ((1,0), (0,1))"
   ]
  },
  {
   "cell_type": "code",
   "execution_count": 73,
   "metadata": {},
   "outputs": [
    {
     "data": {
      "text/latex": [
       "$\\displaystyle \\left[\\begin{matrix}-5 & 8\\\\-6 & 10\\end{matrix}\\right]$"
      ],
      "text/plain": [
       "⎡-5  8 ⎤\n",
       "⎢      ⎥\n",
       "⎣-6  10⎦"
      ]
     },
     "execution_count": 73,
     "metadata": {},
     "output_type": "execute_result"
    }
   ],
   "source": [
    "eIdy = Matrix([[5,-2],[3,-1]])\n",
    "yIde = eIdy**-1\n",
    "eMe = eIdy * yMy * yIde\n",
    "eMe"
   ]
  },
  {
   "cell_type": "markdown",
   "metadata": {},
   "source": [
    "**4. Eigen**"
   ]
  },
  {
   "cell_type": "markdown",
   "metadata": {},
   "source": [
    "K(λ) = ℯ[𝑓]ℯ - λ * I₃"
   ]
  },
  {
   "cell_type": "code",
   "execution_count": 22,
   "metadata": {},
   "outputs": [
    {
     "data": {
      "text/latex": [
       "$\\displaystyle \\left[\\begin{matrix}6 - \\lambda & 3 & 12\\\\4 & - \\lambda - 5 & 4\\\\-4 & -1 & - \\lambda - 10\\end{matrix}\\right]$"
      ],
      "text/plain": [
       "⎡6 - \\lambda       3             12      ⎤\n",
       "⎢                                        ⎥\n",
       "⎢     4       -\\lambda - 5        4      ⎥\n",
       "⎢                                        ⎥\n",
       "⎣    -4            -1       -\\lambda - 10⎦"
      ]
     },
     "execution_count": 22,
     "metadata": {},
     "output_type": "execute_result"
    }
   ],
   "source": [
    "eFe = Matrix([[6,3,12],[4,-5,4],[-4,-1,-10]])\n",
    "lamb = symbols('\\lambda')\n",
    "K = eFe - lamb * eye(3)\n",
    "K"
   ]
  },
  {
   "cell_type": "markdown",
   "metadata": {},
   "source": [
    "characteristic polynomial p(λ) = det(K(λ))"
   ]
  },
  {
   "cell_type": "code",
   "execution_count": 23,
   "metadata": {},
   "outputs": [
    {
     "data": {
      "image/png": "[encoded data removed]",
      "text/latex": [
       "$\\displaystyle - \\lambda^{3} - 9 \\lambda^{2} + 108$"
      ],
      "text/plain": [
       "         3            2      \n",
       "- \\lambda  - 9⋅\\lambda  + 108"
      ]
     },
     "execution_count": 23,
     "metadata": {},
     "output_type": "execute_result"
    }
   ],
   "source": [
    "charpoly = K.det()\n",
    "charpoly"
   ]
  },
  {
   "cell_type": "markdown",
   "metadata": {},
   "source": [
    "characteristic equation det(K(λ)) = 0"
   ]
  },
  {
   "cell_type": "code",
   "execution_count": 24,
   "metadata": {},
   "outputs": [
    {
     "data": {
      "image/png": "[encoded data removed]",
      "text/latex": [
       "$\\displaystyle - \\lambda^{3} - 9 \\lambda^{2} + 108 = 0$"
      ],
      "text/plain": [
       "         3            2          \n",
       "- \\lambda  - 9⋅\\lambda  + 108 = 0"
      ]
     },
     "execution_count": 24,
     "metadata": {},
     "output_type": "execute_result"
    }
   ],
   "source": [
    "chareq = Eq(charpoly, 0)\n",
    "chareq"
   ]
  },
  {
   "cell_type": "markdown",
   "metadata": {},
   "source": [
    "roots of the characteristic polynomial -> eigenvalues\n",
    "+ roots() -> {root:multiplicity}\n",
    "+ solveset() does *NOT* mention the algebraic multiplicity"
   ]
  },
  {
   "cell_type": "code",
   "execution_count": 25,
   "metadata": {},
   "outputs": [
    {
     "data": {
      "image/png": "[encoded data removed]",
      "text/latex": [
       "$\\displaystyle - \\left(\\lambda - 3\\right) \\left(\\lambda + 6\\right)^{2}$"
      ],
      "text/plain": [
       "                            2\n",
       "-(\\lambda - 3)⋅(\\lambda + 6) "
      ]
     },
     "execution_count": 25,
     "metadata": {},
     "output_type": "execute_result"
    }
   ],
   "source": [
    "factor(charpoly)"
   ]
  },
  {
   "cell_type": "code",
   "execution_count": 26,
   "metadata": {},
   "outputs": [
    {
     "data": {
      "image/png": "[encoded data removed]",
      "text/latex": [
       "$\\displaystyle \\left\\{ -6 : 2, \\  3 : 1\\right\\}$"
      ],
      "text/plain": [
       "{-6: 2, 3: 1}"
      ]
     },
     "execution_count": 26,
     "metadata": {},
     "output_type": "execute_result"
    }
   ],
   "source": [
    "eFe.eigenvals()"
   ]
  },
  {
   "cell_type": "code",
   "execution_count": 27,
   "metadata": {},
   "outputs": [
    {
     "data": {
      "image/png": "[encoded data removed]",
      "text/latex": [
       "$\\displaystyle \\left\\{ -6 : 2, \\  3 : 1\\right\\}$"
      ],
      "text/plain": [
       "{-6: 2, 3: 1}"
      ]
     },
     "execution_count": 27,
     "metadata": {},
     "output_type": "execute_result"
    }
   ],
   "source": [
    "roots(charpoly)\n"
   ]
  },
  {
   "cell_type": "code",
   "execution_count": 28,
   "metadata": {},
   "outputs": [
    {
     "data": {
      "image/png": "[encoded data removed]",
      "text/latex": [
       "$\\displaystyle \\left\\{-6, 3\\right\\}$"
      ],
      "text/plain": [
       "{-6, 3}"
      ]
     },
     "execution_count": 28,
     "metadata": {},
     "output_type": "execute_result"
    }
   ],
   "source": [
    "solveset(chareq, lamb)"
   ]
  },
  {
   "cell_type": "markdown",
   "metadata": {},
   "source": [
    "eigenvectors belonging to the eigenvalue\n",
    "+ [(λ1 , am(λ1), eigenvector for λ1), (λ2 , am(λ2), eigenvector for λ2), ...]"
   ]
  },
  {
   "cell_type": "code",
   "execution_count": 29,
   "metadata": {},
   "outputs": [
    {
     "data": {
      "text/latex": [
       "$\\displaystyle \\left[ \\left( -6, \\  2, \\  \\left[ \\left[\\begin{matrix}- \\frac{1}{4}\\\\1\\\\0\\end{matrix}\\right], \\  \\left[\\begin{matrix}-1\\\\0\\\\1\\end{matrix}\\right]\\right]\\right), \\  \\left( 3, \\  1, \\  \\left[ \\left[\\begin{matrix}-3\\\\-1\\\\1\\end{matrix}\\right]\\right]\\right)\\right]$"
      ],
      "text/plain": [
       "⎡⎛       ⎡⎡-1/4⎤  ⎡-1⎤⎤⎞  ⎛      ⎡⎡-3⎤⎤⎞⎤\n",
       "⎢⎜       ⎢⎢    ⎥  ⎢  ⎥⎥⎟  ⎜      ⎢⎢  ⎥⎥⎟⎥\n",
       "⎢⎜-6, 2, ⎢⎢ 1  ⎥, ⎢0 ⎥⎥⎟, ⎜3, 1, ⎢⎢-1⎥⎥⎟⎥\n",
       "⎢⎜       ⎢⎢    ⎥  ⎢  ⎥⎥⎟  ⎜      ⎢⎢  ⎥⎥⎟⎥\n",
       "⎣⎝       ⎣⎣ 0  ⎦  ⎣1 ⎦⎦⎠  ⎝      ⎣⎣1 ⎦⎦⎠⎦"
      ]
     },
     "execution_count": 29,
     "metadata": {},
     "output_type": "execute_result"
    }
   ],
   "source": [
    "eFe.eigenvects()"
   ]
  },
  {
   "cell_type": "code",
   "execution_count": 30,
   "metadata": {},
   "outputs": [
    {
     "data": {
      "text/latex": [
       "$\\displaystyle \\left( \\left[\\begin{matrix}- \\frac{\\tau_{0}}{4} - \\tau_{1}\\\\\\tau_{0}\\\\\\tau_{1}\\end{matrix}\\right], \\  \\left[\\begin{matrix}\\tau_{0}\\\\\\tau_{1}\\end{matrix}\\right]\\right)$"
      ],
      "text/plain": [
       "⎛⎡  τ₀     ⎤      ⎞\n",
       "⎜⎢- ── - τ₁⎥      ⎟\n",
       "⎜⎢  4      ⎥  ⎡τ₀⎤⎟\n",
       "⎜⎢         ⎥, ⎢  ⎥⎟\n",
       "⎜⎢   τ₀    ⎥  ⎣τ₁⎦⎟\n",
       "⎜⎢         ⎥      ⎟\n",
       "⎝⎣   τ₁    ⎦      ⎠"
      ]
     },
     "execution_count": 30,
     "metadata": {},
     "output_type": "execute_result"
    }
   ],
   "source": [
    "K.subs(lamb, -6).gauss_jordan_solve(zeros(3,1))"
   ]
  },
  {
   "cell_type": "code",
   "execution_count": 31,
   "metadata": {},
   "outputs": [
    {
     "data": {
      "text/latex": [
       "$\\displaystyle \\left[ \\left[\\begin{matrix}-3\\\\-1\\\\1\\end{matrix}\\right]\\right]$"
      ],
      "text/plain": [
       "⎡⎡-3⎤⎤\n",
       "⎢⎢  ⎥⎥\n",
       "⎢⎢-1⎥⎥\n",
       "⎢⎢  ⎥⎥\n",
       "⎣⎣1 ⎦⎦"
      ]
     },
     "execution_count": 31,
     "metadata": {},
     "output_type": "execute_result"
    }
   ],
   "source": [
    "K.subs(lamb, 3).nullspace()"
   ]
  },
  {
   "cell_type": "markdown",
   "metadata": {},
   "source": [
    "**ANSWERS to eigen shit**"
   ]
  },
  {
   "cell_type": "code",
   "execution_count": 32,
   "metadata": {},
   "outputs": [
    {
     "name": "stdout",
     "output_type": "stream",
     "text": [
      "For the eigenvalue -6 with algebraic multiplicity 2, the eigenspace is spanned by the eigenvectors\n"
     ]
    },
    {
     "data": {
      "text/latex": [
       "$\\displaystyle \\left[ \\left[\\begin{matrix}- \\frac{1}{4}\\\\1\\\\0\\end{matrix}\\right], \\  \\left[\\begin{matrix}-1\\\\0\\\\1\\end{matrix}\\right]\\right]$"
      ],
      "text/plain": [
       "⎡⎡-1/4⎤  ⎡-1⎤⎤\n",
       "⎢⎢    ⎥  ⎢  ⎥⎥\n",
       "⎢⎢ 1  ⎥, ⎢0 ⎥⎥\n",
       "⎢⎢    ⎥  ⎢  ⎥⎥\n",
       "⎣⎣ 0  ⎦  ⎣1 ⎦⎦"
      ]
     },
     "metadata": {},
     "output_type": "display_data"
    },
    {
     "name": "stdout",
     "output_type": "stream",
     "text": [
      "and the geometric multiplicity is 2\n",
      "\n",
      "\n",
      "For the eigenvalue 3 with algebraic multiplicity 1, the eigenspace is spanned by the eigenvectors\n"
     ]
    },
    {
     "data": {
      "text/latex": [
       "$\\displaystyle \\left[ \\left[\\begin{matrix}-3\\\\-1\\\\1\\end{matrix}\\right]\\right]$"
      ],
      "text/plain": [
       "⎡⎡-3⎤⎤\n",
       "⎢⎢  ⎥⎥\n",
       "⎢⎢-1⎥⎥\n",
       "⎢⎢  ⎥⎥\n",
       "⎣⎣1 ⎦⎦"
      ]
     },
     "metadata": {},
     "output_type": "display_data"
    },
    {
     "name": "stdout",
     "output_type": "stream",
     "text": [
      "and the geometric multiplicity is 1\n",
      "\n",
      "\n",
      "Linearly independent eigenvectors associated with the eigenvalue -6\n"
     ]
    },
    {
     "data": {
      "text/latex": [
       "$\\displaystyle \\left[ \\left[\\begin{matrix}- \\frac{1}{4}\\\\1\\\\0\\end{matrix}\\right], \\  \\left[\\begin{matrix}-1\\\\0\\\\1\\end{matrix}\\right]\\right]$"
      ],
      "text/plain": [
       "⎡⎡-1/4⎤  ⎡-1⎤⎤\n",
       "⎢⎢    ⎥  ⎢  ⎥⎥\n",
       "⎢⎢ 1  ⎥, ⎢0 ⎥⎥\n",
       "⎢⎢    ⎥  ⎢  ⎥⎥\n",
       "⎣⎣ 0  ⎦  ⎣1 ⎦⎦"
      ]
     },
     "metadata": {},
     "output_type": "display_data"
    }
   ],
   "source": [
    "eigen_info = eFe.eigenvects()\n",
    "\n",
    "for lmb, am_lmb, list_of_v in eigen_info:\n",
    "    print(f'For the eigenvalue {lmb} with algebraic multiplicity {am_lmb}, the eigenspace is spanned by the eigenvectors')\n",
    "    display(list_of_v)\n",
    "    print(f'and the geometric multiplicity is {len(list_of_v)}' + '\\n\\n')\n",
    "\n",
    "print(f'Linearly independent eigenvectors associated with the eigenvalue -6')\n",
    "display(eigen_info[0][2])"
   ]
  },
  {
   "cell_type": "markdown",
   "metadata": {},
   "source": [
    "**5. Diagonalization**\n",
    "<br><br>\n",
    "**ANSWERS to Diagonalization**"
   ]
  },
  {
   "cell_type": "code",
   "execution_count": 33,
   "metadata": {},
   "outputs": [
    {
     "data": {
      "text/latex": [
       "$\\displaystyle \\left[\\begin{matrix}0 & 1 & 0\\\\-2 & 3 & 0\\\\0 & 0 & 2\\end{matrix}\\right]$"
      ],
      "text/plain": [
       "⎡0   1  0⎤\n",
       "⎢        ⎥\n",
       "⎢-2  3  0⎥\n",
       "⎢        ⎥\n",
       "⎣0   0  2⎦"
      ]
     },
     "execution_count": 33,
     "metadata": {},
     "output_type": "execute_result"
    }
   ],
   "source": [
    "C = Matrix([[0,1,0],[-2,3,0],[0,0,2]])\n",
    "C"
   ]
  },
  {
   "cell_type": "code",
   "execution_count": 34,
   "metadata": {},
   "outputs": [
    {
     "data": {
      "text/plain": [
       "True"
      ]
     },
     "execution_count": 34,
     "metadata": {},
     "output_type": "execute_result"
    }
   ],
   "source": [
    "C.is_diagonalizable()"
   ]
  },
  {
   "cell_type": "markdown",
   "metadata": {},
   "source": [
    "V - diagonalized \n",
    "Λ - Lambda\n",
    "+ V⁻¹ * C * V = Λ *or* C = V * Λ * V⁻¹"
   ]
  },
  {
   "cell_type": "code",
   "execution_count": 35,
   "metadata": {},
   "outputs": [
    {
     "data": {
      "text/latex": [
       "$\\displaystyle \\left( \\left[\\begin{matrix}1 & 1 & 0\\\\1 & 2 & 0\\\\0 & 0 & 1\\end{matrix}\\right], \\  \\left[\\begin{matrix}0 & 1 & 0\\\\-2 & 3 & 0\\\\0 & 0 & 2\\end{matrix}\\right], \\  \\left[\\begin{matrix}2 & -1 & 0\\\\-1 & 1 & 0\\\\0 & 0 & 1\\end{matrix}\\right], \\  \\left[\\begin{matrix}1 & 0 & 0\\\\0 & 2 & 0\\\\0 & 0 & 2\\end{matrix}\\right]\\right)$"
      ],
      "text/plain": [
       "⎛⎡1  1  0⎤  ⎡0   1  0⎤  ⎡2   -1  0⎤  ⎡1  0  0⎤⎞\n",
       "⎜⎢       ⎥  ⎢        ⎥  ⎢         ⎥  ⎢       ⎥⎟\n",
       "⎜⎢1  2  0⎥, ⎢-2  3  0⎥, ⎢-1  1   0⎥, ⎢0  2  0⎥⎟\n",
       "⎜⎢       ⎥  ⎢        ⎥  ⎢         ⎥  ⎢       ⎥⎟\n",
       "⎝⎣0  0  1⎦  ⎣0   0  2⎦  ⎣0   0   1⎦  ⎣0  0  2⎦⎠"
      ]
     },
     "execution_count": 35,
     "metadata": {},
     "output_type": "execute_result"
    }
   ],
   "source": [
    "V, Lambda = C.diagonalize()\n",
    "\n",
    "V, C, V.inv(), Lambda"
   ]
  },
  {
   "cell_type": "markdown",
   "metadata": {},
   "source": [
    "**6. Differential equations and systems**\n",
    "<br><br>\n",
    "**ANSWERS for Differential equations and systems hereof**"
   ]
  },
  {
   "cell_type": "code",
   "execution_count": 36,
   "metadata": {},
   "outputs": [
    {
     "data": {
      "text/latex": [
       "$\\displaystyle \\left[\\begin{matrix}f_{1}{\\left(t \\right)}\\\\f_{2}{\\left(t \\right)}\\end{matrix}\\right]$"
      ],
      "text/plain": [
       "⎡f₁(t)⎤\n",
       "⎢     ⎥\n",
       "⎣f₂(t)⎦"
      ]
     },
     "execution_count": 36,
     "metadata": {},
     "output_type": "execute_result"
    }
   ],
   "source": [
    "G = Matrix([[2,-S(1)/2],[S(1)/3, 1]])\n",
    "\n",
    "t = symbols('t')\n",
    "f1 = Function('f1')\n",
    "f2 = Function('f2')\n",
    "\n",
    "f = Matrix([f1(t), f2(t)])\n",
    "f"
   ]
  },
  {
   "cell_type": "markdown",
   "metadata": {},
   "source": [
    "𝑓＇(t) - **A** * 𝑓(t)"
   ]
  },
  {
   "cell_type": "code",
   "execution_count": 37,
   "metadata": {},
   "outputs": [
    {
     "data": {
      "text/latex": [
       "$\\displaystyle \\left[\\begin{matrix}- 2 f_{1}{\\left(t \\right)} + \\frac{f_{2}{\\left(t \\right)}}{2} + \\frac{d}{d t} f_{1}{\\left(t \\right)}\\\\- \\frac{f_{1}{\\left(t \\right)}}{3} - f_{2}{\\left(t \\right)} + \\frac{d}{d t} f_{2}{\\left(t \\right)}\\end{matrix}\\right]$"
      ],
      "text/plain": [
       "⎡           f₂(t)   d        ⎤\n",
       "⎢-2⋅f₁(t) + ───── + ──(f₁(t))⎥\n",
       "⎢             2     dt       ⎥\n",
       "⎢                            ⎥\n",
       "⎢  f₁(t)           d         ⎥\n",
       "⎢- ───── - f₂(t) + ──(f₂(t)) ⎥\n",
       "⎣    3             dt        ⎦"
      ]
     },
     "execution_count": 37,
     "metadata": {},
     "output_type": "execute_result"
    }
   ],
   "source": [
    "df = diff(f,t)\n",
    "\n",
    "ode_sys = df - G * f\n",
    "ode_sys"
   ]
  },
  {
   "cell_type": "markdown",
   "metadata": {},
   "source": [
    "particular solution"
   ]
  },
  {
   "cell_type": "code",
   "execution_count": 38,
   "metadata": {},
   "outputs": [
    {
     "data": {
      "image/png": "[encoded data removed]",
      "text/latex": [
       "$\\displaystyle \\left[ f_{1}{\\left(t \\right)} = \\frac{\\left(1 - \\sqrt{3}\\right) e^{\\frac{t \\left(9 - \\sqrt{3}\\right)}{6}}}{2} + \\frac{\\left(1 + \\sqrt{3}\\right) e^{\\frac{t \\left(\\sqrt{3} + 9\\right)}{6}}}{2}, \\  f_{2}{\\left(t \\right)} = - \\frac{\\sqrt{3} e^{\\frac{t \\left(9 - \\sqrt{3}\\right)}{6}}}{3} + \\frac{\\sqrt{3} e^{\\frac{t \\left(\\sqrt{3} + 9\\right)}{6}}}{3}\\right]$"
      ],
      "text/plain": [
       "⎡                  t⋅(9 - √3)             t⋅(√3 + 9)                t⋅(9 - √3)\n",
       "⎢                  ──────────             ──────────                ──────────\n",
       "⎢                      6                      6                         6     \n",
       "⎢        (1 - √3)⋅ℯ             (1 + √3)⋅ℯ                      √3⋅ℯ          \n",
       "⎢f₁(t) = ──────────────────── + ────────────────────, f₂(t) = - ──────────────\n",
       "⎣                 2                      2                            3       \n",
       "\n",
       "       t⋅(√3 + 9)⎤\n",
       "       ──────────⎥\n",
       "           6     ⎥\n",
       "   √3⋅ℯ          ⎥\n",
       " + ──────────────⎥\n",
       "         3       ⎦"
      ]
     },
     "execution_count": 38,
     "metadata": {},
     "output_type": "execute_result"
    }
   ],
   "source": [
    "dsolve(ode_sys, ics = {f1(0):1, f2(0):0})"
   ]
  },
  {
   "cell_type": "markdown",
   "metadata": {},
   "source": [
    "general solution"
   ]
  },
  {
   "cell_type": "code",
   "execution_count": 39,
   "metadata": {},
   "outputs": [
    {
     "data": {
      "image/png": "[encoded data removed]",
      "text/latex": [
       "$\\displaystyle \\left[ f_{1}{\\left(t \\right)} = \\frac{C_{1} \\cdot \\left(3 - \\sqrt{3}\\right) e^{\\frac{t \\left(9 - \\sqrt{3}\\right)}{6}}}{2} + \\frac{C_{2} \\left(\\sqrt{3} + 3\\right) e^{\\frac{t \\left(\\sqrt{3} + 9\\right)}{6}}}{2}, \\  f_{2}{\\left(t \\right)} = C_{1} e^{\\frac{t \\left(9 - \\sqrt{3}\\right)}{6}} + C_{2} e^{\\frac{t \\left(\\sqrt{3} + 9\\right)}{6}}\\right]$"
      ],
      "text/plain": [
       "⎡                     t⋅(9 - √3)                t⋅(√3 + 9)                    \n",
       "⎢                     ──────────                ──────────              t⋅(9 -\n",
       "⎢                         6                         6                   ──────\n",
       "⎢        C₁⋅(3 - √3)⋅ℯ             C₂⋅(√3 + 3)⋅ℯ                            6 \n",
       "⎢f₁(t) = ─────────────────────── + ───────────────────────, f₂(t) = C₁⋅ℯ      \n",
       "⎣                   2                         2                               \n",
       "\n",
       "                     ⎤\n",
       " √3)       t⋅(√3 + 9)⎥\n",
       "────       ──────────⎥\n",
       "               6     ⎥\n",
       "     + C₂⋅ℯ          ⎥\n",
       "                     ⎦"
      ]
     },
     "execution_count": 39,
     "metadata": {},
     "output_type": "execute_result"
    }
   ],
   "source": [
    "dsolve(ode_sys)"
   ]
  }
 ],
 "metadata": {
  "kernelspec": {
   "display_name": "base",
   "language": "python",
   "name": "python3"
  },
  "language_info": {
   "codemirror_mode": {
    "name": "ipython",
    "version": 3
   },
   "file_extension": ".py",
   "mimetype": "text/x-python",
   "name": "python",
   "nbconvert_exporter": "python",
   "pygments_lexer": "ipython3",
   "version": "3.11.5"
  }
 },
 "nbformat": 4,
 "nbformat_minor": 2
}
